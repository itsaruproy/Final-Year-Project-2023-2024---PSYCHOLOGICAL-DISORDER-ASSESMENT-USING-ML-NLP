{
 "cells": [
  {
   "cell_type": "code",
   "execution_count": 2,
   "metadata": {},
   "outputs": [
    {
     "name": "stdout",
     "output_type": "stream",
     "text": [
      "WARNING:tensorflow:From C:\\Users\\Asus\\AppData\\Local\\Packages\\PythonSoftwareFoundation.Python.3.11_qbz5n2kfra8p0\\LocalCache\\local-packages\\Python311\\site-packages\\alibi\\explainers\\cem.py:35: The name tf.Session is deprecated. Please use tf.compat.v1.Session instead.\n",
      "\n"
     ]
    }
   ],
   "source": [
    "import numpy as np\n",
    "import pandas as pd\n",
    "from sklearn.inspection import permutation_importance\n",
    "from alibi.explainers import CEM, CounterfactualProto\n",
    "import tensorflow as tf\n",
    "from sklearn.model_selection import train_test_split\n",
    "import joblib"
   ]
  },
  {
   "cell_type": "code",
   "execution_count": 3,
   "metadata": {},
   "outputs": [],
   "source": [
    "df = pd.read_csv('anxiety.csv')\n",
    "X = df.drop('Classes', axis=1)\n",
    "y = df.iloc[:, -1:]\n",
    "X_train, X_test, y_train, y_test = train_test_split(X, y, test_size=0.2, random_state=10)"
   ]
  },
  {
   "cell_type": "code",
   "execution_count": 4,
   "metadata": {},
   "outputs": [],
   "source": [
    "model = joblib.load('Decision_Tree.joblib')"
   ]
  },
  {
   "cell_type": "code",
   "execution_count": 7,
   "metadata": {},
   "outputs": [
    {
     "data": {
      "text/plain": [
       "Index(['Q2', 'Q4', 'Q7', 'Q9', 'Q15', 'Q19', 'Q20', 'Q23', 'Q25', 'Q28', 'Q30',\n",
       "       'Q36', 'Q40', 'Q41'],\n",
       "      dtype='object')"
      ]
     },
     "execution_count": 7,
     "metadata": {},
     "output_type": "execute_result"
    }
   ],
   "source": [
    "X.columns"
   ]
  },
  {
   "cell_type": "code",
   "execution_count": 10,
   "metadata": {},
   "outputs": [
    {
     "name": "stdout",
     "output_type": "stream",
     "text": [
      "Feature importance:\n",
      "Q40: 0.16585795097423006\n",
      "Q7: 0.1548124869055102\n",
      "Q28: 0.1507982401005657\n",
      "Q36: 0.14913471611146029\n",
      "Q9: 0.13354703540750054\n",
      "Q20: 0.13337942593756547\n",
      "Q2: 0.1307647182065787\n",
      "Q25: 0.12930651581814376\n",
      "Q30: 0.1254766394301278\n",
      "Q4: 0.12063272574900483\n",
      "Q19: 0.10540540540540541\n",
      "Q41: 0.09829038340666248\n",
      "Q15: 0.07426775612822126\n",
      "Q23: 0.057808506180599205\n"
     ]
    },
    {
     "data": {
      "image/png": "[encoded data removed]",
      "text/plain": [
       "<Figure size 640x480 with 1 Axes>"
      ]
     },
     "metadata": {},
     "output_type": "display_data"
    }
   ],
   "source": [
    "perm_importance = permutation_importance(model, X_test.values, y_test.values, n_repeats=30, random_state=42)\n",
    "feature_importances = perm_importance.importances_mean\n",
    "sorted_idx = np.argsort(feature_importances)[::-1]\n",
    "feature_names = X.columns\n",
    "print(\"Feature importance:\")\n",
    "for idx in sorted_idx:\n",
    "    print(f\"{feature_names[idx]}: {feature_importances[idx]}\")\n",
    "\n",
    "import matplotlib.pyplot as plt\n",
    "\n",
    "plt.bar(range(X.shape[1]), feature_importances[sorted_idx])\n",
    "plt.xticks(range(X.shape[1]), [feature_names[idx] for idx in sorted_idx])\n",
    "plt.xlabel(\"Features\")\n",
    "plt.ylabel(\"Permutation Importance\")\n",
    "plt.title(\"Permutation Feature Importance\")\n",
    "plt.show()"
   ]
  },
  {
   "cell_type": "code",
   "execution_count": null,
   "metadata": {},
   "outputs": [
    {
     "name": "stdout",
     "output_type": "stream",
     "text": [
      "WARNING:tensorflow:From C:\\Users\\Asus\\AppData\\Local\\Packages\\PythonSoftwareFoundation.Python.3.11_qbz5n2kfra8p0\\LocalCache\\local-packages\\Python311\\site-packages\\keras\\src\\backend.py:731: The name tf.get_default_session is deprecated. Please use tf.compat.v1.get_default_session instead.\n",
      "\n",
      "WARNING:tensorflow:From C:\\Users\\Asus\\AppData\\Local\\Packages\\PythonSoftwareFoundation.Python.3.11_qbz5n2kfra8p0\\LocalCache\\local-packages\\Python311\\site-packages\\alibi\\explainers\\cem.py:269: The name tf.train.polynomial_decay is deprecated. Please use tf.compat.v1.train.polynomial_decay instead.\n",
      "\n",
      "Original sample: [[1 0 0 0 0 0 0 0 0 0 0 0 1 0]]\n",
      "\n",
      "Prediction label:[0]\n",
      "\n",
      "Pertinent positive:[[0. 0. 0. 0. 0. 0. 0. 0. 0. 0. 0. 0. 0. 0.]]\n",
      "\n",
      "Predicted label:[0]\n"
     ]
    }
   ],
   "source": [
    "tf.compat.v1.disable_eager_execution()\n",
    "shape = (1, X_train.shape[1])\n",
    "cem = CEM(model.predict_proba, mode='PP', shape=shape, feature_range=(X_train.values.min(), X_train.values.max()))\n",
    "explanation = cem.fit(X_train.values, no_info_type='median')\n",
    "\n",
    "interpret = cem.explain(X_test.iloc[10].values.reshape((1,-1)))\n",
    "print('Original sample: {}'.format(interpret.X))\n",
    "print('\\nPrediction label:{}'.format([interpret.X_pred]))\n",
    "print('\\nPertinent positive:{}'.format(interpret.PP))\n",
    "print('\\nPredicted label:{}'.format([interpret.PP_pred]))"
   ]
  },
  {
   "cell_type": "code",
   "execution_count": null,
   "metadata": {},
   "outputs": [
    {
     "name": "stderr",
     "output_type": "stream",
     "text": [
      "No PN found!\n"
     ]
    },
    {
     "name": "stdout",
     "output_type": "stream",
     "text": [
      "Original sample: [[0 3 0 1 0 1 0 0 0 1 1 0 2 0]]\n",
      "\n",
      "Prediction label:[0]\n",
      "\n",
      "Pertinent negative:None\n",
      "\n",
      "Predicted label:[None]\n"
     ]
    }
   ],
   "source": [
    "cem = CEM(model.predict_proba, mode='PN', shape=shape, feature_range=(X_train.values.min(), X_train.values.max()))\n",
    "explanation = cem.fit(X_train.values, no_info_type='median')\n",
    "\n",
    "interpret = cem.explain(X_test.iloc[0].values.reshape((1,-1)))\n",
    "print('Original sample: {}'.format(interpret.X))\n",
    "print('\\nPrediction label:{}'.format([interpret.X_pred]))\n",
    "print('\\nPertinent negative:{}'.format(interpret.PN))\n",
    "print('\\nPredicted label:{}'.format([interpret.PN_pred]))"
   ]
  },
  {
   "cell_type": "code",
   "execution_count": null,
   "metadata": {},
   "outputs": [
    {
     "name": "stderr",
     "output_type": "stream",
     "text": [
      "No counterfactual found!\n"
     ]
    },
    {
     "name": "stdout",
     "output_type": "stream",
     "text": [
      "Original Class:0\n",
      "Counterfactual prediction:None\n"
     ]
    },
    {
     "name": "stderr",
     "output_type": "stream",
     "text": [
      "C:\\Users\\Asus\\AppData\\Local\\Temp\\ipykernel_12312\\3171890518.py:5: DeprecationWarning: The Explanation object is not a dictionary anymore and accessing elements should be done via attribute access. Accessing via item will stop working in a future version.\n",
      "  print(\"Counterfactual prediction:{}\".format(explanation['cf']))\n"
     ]
    }
   ],
   "source": [
    "count = CounterfactualProto(model.predict_proba, shape=(1, 14), feature_range=(X_train.values.min(), X_train.values.max()), kappa=0., beta=.1, gamma=100., theta=100., c_init=1)\n",
    "count.fit(X_train.values)\n",
    "explanation = count.explain(X_test.values[10].reshape((1,-1)))\n",
    "print(\"Original Class:{}\".format(explanation.orig_class))\n",
    "print(\"Counterfactual prediction:{}\".format(explanation['cf']))"
   ]
  }
 ],
 "metadata": {
  "kernelspec": {
   "display_name": "Python 3",
   "language": "python",
   "name": "python3"
  },
  "language_info": {
   "codemirror_mode": {
    "name": "ipython",
    "version": 3
   },
   "file_extension": ".py",
   "mimetype": "text/x-python",
   "name": "python",
   "nbconvert_exporter": "python",
   "pygments_lexer": "ipython3",
   "version": "3.11.7"
  }
 },
 "nbformat": 4,
 "nbformat_minor": 2
}
